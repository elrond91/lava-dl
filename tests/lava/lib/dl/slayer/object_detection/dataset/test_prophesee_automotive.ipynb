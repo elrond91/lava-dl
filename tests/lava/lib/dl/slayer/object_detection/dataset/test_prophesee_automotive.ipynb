{
 "cells": [
  {
   "cell_type": "code",
   "execution_count": null,
   "metadata": {},
   "outputs": [],
   "source": [
    "import numpy as np\n",
    "import matplotlib.pyplot as plt\n",
    "from matplotlib import animation\n",
    "import IPython.display as ipd\n",
    "from lava.lib.dl.slayer import obd"
   ]
  },
  {
   "cell_type": "markdown",
   "metadata": {},
   "source": [
    "## Prophesee's Automotive dataset"
   ]
  },
  {
   "cell_type": "code",
   "execution_count": null,
   "metadata": {},
   "outputs": [],
   "source": [
    "root = '/home/lecampos/data/prophesee'\n",
    "train_set = obd.dataset.PropheseeAutomotive(root=root, \n",
    "                                            train=True, \n",
    "                                            delta_t=1, \n",
    "                                            seq_len=5,\n",
    "                                            events_ratio=0.04,\n",
    "                                            size=(720, 1280),\n",
    "                                            randomize_seq=False, \n",
    "                                            augment_prob=1.0)"
   ]
  },
  {
   "cell_type": "code",
   "execution_count": null,
   "metadata": {},
   "outputs": [],
   "source": [
    "print(f'{len(train_set) = }')"
   ]
  },
  {
   "cell_type": "code",
   "execution_count": null,
   "metadata": {},
   "outputs": [],
   "source": [
    "print(f'{train_set.classes = }')\n",
    "print(f'{train_set.idx_map = }')"
   ]
  },
  {
   "cell_type": "code",
   "execution_count": null,
   "metadata": {},
   "outputs": [],
   "source": [
    "idp = np.random.randint(len(train_set))\n",
    "image, annotation = train_set[9]"
   ]
  },
  {
   "cell_type": "code",
   "execution_count": null,
   "metadata": {},
   "outputs": [],
   "source": [
    "for idx in range(5):\n",
    "    print(idx)\n",
    "    display(obd.bbox.utils.mark_bounding_boxes(\n",
    "        obd.bbox.utils.render_events_img(image[:, :, :, idx]),\n",
    "        annotation[idx]['annotation']['object'],\n",
    "        thickness=1))"
   ]
  },
  {
   "cell_type": "code",
   "execution_count": null,
   "metadata": {},
   "outputs": [],
   "source": [
    "\n",
    "to_display = []\n",
    "for idx in range(image.shape[-1]):\n",
    "    test = image[:,:,:,idx]\n",
    "    to_display.append(obd.bbox.utils.mark_bounding_boxes(obd.bbox.utils.render_events_img(image[:,:,:,idx]),\n",
    "                                          annotation[idx]['annotation']['object'],\n",
    "                                          thickness=1))\n",
    "\n",
    "# ipyplot.plot_images(to_display, max_images=5, img_width=448)\n",
    "fig, ax = plt.subplots(figsize=(5, 5))\n",
    "img_plt = ax.imshow(to_display[0])\n",
    "ax.axis('off')\n",
    "\n",
    "def animate(i):\n",
    "    img_plt.set_data(to_display[i])\n",
    "\n",
    "anim = animation.FuncAnimation(fig, animate, frames=len(to_display), interval=40, repeat=True)\n",
    "plt.close(fig)\n",
    "ipd.HTML(anim.to_jshtml())"
   ]
  },
  {
   "cell_type": "code",
   "execution_count": null,
   "metadata": {},
   "outputs": [],
   "source": [
    "# Test annotation_from_tensor and tensor_from_annotation\n",
    "tensor = obd.bbox.utils.tensor_from_annotation(annotation[0])\n",
    "new_ann = obd.bbox.utils.annotation_from_tensor(\n",
    "    tensor,\n",
    "    frame_size=annotation[0]['annotation']['size'],\n",
    "    object_names=train_set.classes)\n",
    "print(annotation[0]['annotation']['size'])"
   ]
  },
  {
   "cell_type": "markdown",
   "metadata": {},
   "source": [
    "# Pre - Process Dataset"
   ]
  },
  {
   "cell_type": "code",
   "execution_count": null,
   "metadata": {},
   "outputs": [],
   "source": [
    "import os\n",
    "train_set = obd.dataset._PropheseeAutomotive(root='/home/lecampos/data/prophesee', \n",
    "                                             delta_t = 1,\n",
    "                                             train=True, \n",
    "                                             randomize_seq= False,\n",
    "                                             seq_len = 5)\n",
    "                 \n",
    "\n",
    "out_path = '/home/lecampos/data/prophesee_small'\n",
    "\n",
    "if not os.path.exists(out_path):\n",
    "    os.makedirs(out_path)\n",
    "\n",
    "train_path = '/home/lecampos/data/prophesee_small' + '/train'\n",
    "if not os.path.exists(train_path):\n",
    "    os.makedirs(train_path)\n",
    "    \n",
    "test_path = '/home/lecampos/data/prophesee_small' + '/val'\n",
    "if not os.path.exists(test_path):\n",
    "    os.makedirs(test_path)\n",
    "    \n",
    "for idx in range(len(train_set)):\n",
    "    name = train_set.get_name(idx) \n",
    "    images, annotations = train_set[idx]\n",
    "    if not os.path.exists(train_path + os.path.sep + name):\n",
    "        os.makedirs(train_path + os.path.sep + name)\n",
    "        os.makedirs(train_path + os.path.sep + name +  os.path.sep + 'events')\n",
    "        os.makedirs(train_path + os.path.sep + name +  os.path.sep + 'labels')\n",
    "    idx = 0\n",
    "    for events, label in zip(images, annotations):\n",
    "        np.savez_compressed(train_path + os.path.sep + name +  os.path.sep + \n",
    "                            'events' + os.path.sep + '{:05d}'.format(idx) + '.npz', a=events)\n",
    "        np.savez_compressed(train_path + os.path.sep + name +  os.path.sep + \n",
    "                                'labels' + os.path.sep + '{:05d}'.format(idx) + '.npz', a=label)\n",
    "        \n",
    "        events_loaded = np.load(train_path + os.path.sep + name +  os.path.sep + \n",
    "                            'events' + os.path.sep + '{:05d}'.format(idx) + '.npz')['a']\n",
    "\n",
    "        label_loaded = np.load(train_path + os.path.sep + name +  os.path.sep + \n",
    "                            'labels' + os.path.sep + '{:05d}'.format(idx) + '.npz',\n",
    "                            allow_pickle='TRUE')['a'].item()\n",
    "        idx += 1\n",
    "        "
   ]
  },
  {
   "cell_type": "code",
   "execution_count": null,
   "metadata": {},
   "outputs": [],
   "source": [
    "train_set = obd.dataset.PropheseeAutomotiveFiltered(root='/home/lecampos/data/prophesee', \n",
    "                                             train=True, \n",
    "                                             randomize_seq= True,\n",
    "                                             seq_len = 32)\n",
    "\n",
    "print(f'{len(train_set) = }')\n",
    "idx = np.random.randint(len(train_set))\n",
    "image, annotation = train_set[idx]\n",
    "to_display = []\n",
    "for idx in range(image.shape[-1]):\n",
    "    test = image[:,:,:,idx]\n",
    "    to_display.append(obd.bbox.utils.mark_bounding_boxes(obd.bbox.utils.render_events_img(image[:,:,:,idx]),\n",
    "                                          annotation[idx]['annotation']['object'],\n",
    "                                          thickness=1))\n",
    "\n",
    "# ipyplot.plot_images(to_display, max_images=5, img_width=448)\n",
    "fig, ax = plt.subplots(figsize=(5, 5))\n",
    "img_plt = ax.imshow(to_display[0])\n",
    "ax.axis('off')\n",
    "\n",
    "def animate(i):\n",
    "    img_plt.set_data(to_display[i])\n",
    "\n",
    "anim = animation.FuncAnimation(fig, animate, frames=len(to_display), interval=40, repeat=True)\n",
    "plt.close(fig)\n",
    "ipd.HTML(anim.to_jshtml())"
   ]
  }
 ],
 "metadata": {
  "kernelspec": {
   "display_name": "Python 3 (ipykernel)",
   "language": "python",
   "name": "python3"
  },
  "language_info": {
   "codemirror_mode": {
    "name": "ipython",
    "version": 3
   },
   "file_extension": ".py",
   "mimetype": "text/x-python",
   "name": "python",
   "nbconvert_exporter": "python",
   "pygments_lexer": "ipython3",
   "version": "3.8.10"
  },
  "vscode": {
   "interpreter": {
    "hash": "4573c57cde5307fdb5e3ca299d1bd325b1658eb4bd7e45e2fe5570005780ace2"
   }
  }
 },
 "nbformat": 4,
 "nbformat_minor": 4
}
