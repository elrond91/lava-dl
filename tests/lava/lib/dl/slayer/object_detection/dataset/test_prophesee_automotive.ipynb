{
 "cells": [
  {
   "cell_type": "code",
   "execution_count": 1,
   "metadata": {},
   "outputs": [],
   "source": [
    "\n",
    "import numpy as np\n",
    "import matplotlib.pyplot as plt\n",
    "from matplotlib import animation\n",
    "import IPython.display as ipd\n",
    "from lava.lib.dl.slayer import obd"
   ]
  },
  {
   "cell_type": "markdown",
   "metadata": {},
   "source": [
    "## Prophesee's Automotive dataset"
   ]
  },
  {
   "cell_type": "code",
   "execution_count": 2,
   "metadata": {},
   "outputs": [],
   "source": [
    "root = '/home/lecampos/lava-dev/data/prophesee'\n",
    "train_set = obd.dataset.PropheseeAutomotive(root=root, train=True, delta_t=1, seq_len=10000, randomize_seq=False, augment_prob=1.0)"
   ]
  },
  {
   "cell_type": "markdown",
   "metadata": {},
   "source": [
    "Validate Data"
   ]
  },
  {
   "cell_type": "code",
   "execution_count": null,
   "metadata": {},
   "outputs": [],
   "source": [
    "for idx in range(len(train_set)):\n",
    "    #idx = np.random.randint(len(train_set))\n",
    "    #print(idx)\n",
    "    #image, annotation = train_set[idx]\n",
    "    print(idx, len(train_set))\n",
    "    image, annotation = train_set[idx]"
   ]
  },
  {
   "cell_type": "code",
   "execution_count": null,
   "metadata": {},
   "outputs": [],
   "source": [
    "print(f'{len(train_set) = }')"
   ]
  },
  {
   "cell_type": "code",
   "execution_count": null,
   "metadata": {},
   "outputs": [],
   "source": [
    "print(f'{train_set.classes = }')\n",
    "print(f'{train_set.idx_map = }')"
   ]
  },
  {
   "cell_type": "code",
   "execution_count": null,
   "metadata": {},
   "outputs": [],
   "source": [
    "idx = np.random.randint(len(train_set))\n",
    "image, annotation = train_set[idx]\n",
    "to_display = []\n",
    "for idx in range(image.shape[-1]):\n",
    "    test = image[:,:,:,idx]\n",
    "    to_display.append(obd.bbox.utils.mark_bounding_boxes(obd.bbox.utils.render_events_img(image[:,:,:,idx]),\n",
    "                                          annotation[idx]['annotation']['object'],\n",
    "                                          thickness=1))\n",
    "\n",
    "# ipyplot.plot_images(to_display, max_images=5, img_width=448)\n",
    "fig, ax = plt.subplots(figsize=(5, 5))\n",
    "img_plt = ax.imshow(to_display[0])\n",
    "ax.axis('off')\n",
    "\n",
    "def animate(i):\n",
    "    img_plt.set_data(to_display[i])\n",
    "\n",
    "anim = animation.FuncAnimation(fig, animate, frames=len(to_display), interval=40, repeat=True)\n",
    "plt.close(fig)\n",
    "ipd.HTML(anim.to_jshtml())"
   ]
  },
  {
   "cell_type": "code",
   "execution_count": null,
   "metadata": {},
   "outputs": [],
   "source": [
    "# Test annotation_from_tensor and tensor_from_annotation\n",
    "tensor = obd.bbox.utils.tensor_from_annotation(annotation[0])\n",
    "new_ann = obd.bbox.utils.annotation_from_tensor(\n",
    "    tensor,\n",
    "    frame_size=annotation[0]['annotation']['size'],\n",
    "    object_names=train_set.classes)\n",
    "print(annotation[0]['annotation']['size'])"
   ]
  },
  {
   "cell_type": "code",
   "execution_count": null,
   "metadata": {},
   "outputs": [],
   "source": [
    "display(obd.bbox.utils.mark_bounding_boxes(\n",
    "    obd.bbox.utils.render_events_img(image[:, :, :, 0]),\n",
    "    annotation[0]['annotation']['object'],\n",
    "    thickness=1))"
   ]
  }
 ],
 "metadata": {
  "kernelspec": {
   "display_name": "Python 3 (ipykernel)",
   "language": "python",
   "name": "python3"
  },
  "language_info": {
   "codemirror_mode": {
    "name": "ipython",
    "version": 3
   },
   "file_extension": ".py",
   "mimetype": "text/x-python",
   "name": "python",
   "nbconvert_exporter": "python",
   "pygments_lexer": "ipython3",
   "version": "3.8.18"
  },
  "vscode": {
   "interpreter": {
    "hash": "4573c57cde5307fdb5e3ca299d1bd325b1658eb4bd7e45e2fe5570005780ace2"
   }
  }
 },
 "nbformat": 4,
 "nbformat_minor": 4
}
